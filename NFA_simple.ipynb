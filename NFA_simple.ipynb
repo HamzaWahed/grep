{
 "cells": [
  {
   "attachments": {},
   "cell_type": "markdown",
   "metadata": {},
   "source": [
    "# NFA Implementation\n",
    "This is a simple NFA implementation. It reflects the definition of an NFA as discussed in class. It is `not` the final implementation our implementation of `grep` will use.\n",
    "\n",
    "NFA representation:\n",
    "- Number of states `num_states` (the state set is then 0..num_states -1)\n",
    "- Start state `start_state`\n",
    "- Boolean array `is_accepting` storing for every state whether it's accepting\n",
    "- Transition function `delta` represented as a dictionary with `(state, character)` keys and `state` sets as values\n",
    "- a key of `(state, None)` in the transition function represents an $\\epsilon$-transition out of `state`"
   ]
  },
  {
   "cell_type": "code",
   "execution_count": 12,
   "metadata": {},
   "outputs": [],
   "source": [
    "# %load src/nfa_simple.py\n",
    "\n",
    "class NFA:\n",
    "    def __init__(self, num_states, start_state, is_accepting, delta):\n",
    "        self.num_states = num_states\n",
    "        self.start_state = start_state\n",
    "        self.delta = delta\n",
    "        self.is_accepting = is_accepting\n",
    "\n",
    "    def accepts(self, string):\n",
    "        states = self.eclose({self.start_state})\n",
    "\n",
    "        for ch in string:\n",
    "            states = self.transition(states, ch)\n",
    "\n",
    "        return any(self.is_accepting[state] for state in states)\n",
    "\n",
    "    def eclose(self, states):\n",
    "        closure = states\n",
    "        closure_size = 0\n",
    "\n",
    "        # if there are more epsilon transitions after union\n",
    "        while len(closure) > closure_size:\n",
    "            closure_size = len(closure)\n",
    "            closure = closure.union(*(self.__successors(state, None) for state in closure))\n",
    "\n",
    "        return closure\n",
    "\n",
    "    def transition(self, states, ch):\n",
    "        successors = set().union(*(self.__successors(state, ch) for state in states))\n",
    "        return self.eclose(successors)\n",
    "\n",
    "    def __successors(self, state, ch):\n",
    "        # if there is no value, return empty set\n",
    "        return self.delta.get((state, ch), set())\n",
    "\n",
    "    "
   ]
  },
  {
   "attachments": {},
   "cell_type": "markdown",
   "metadata": {},
   "source": [
    "# An Example NFA\n",
    "The NFA decides the language of all decimal strings that contain the substring `3136`"
   ]
  },
  {
   "cell_type": "code",
   "execution_count": 13,
   "metadata": {},
   "outputs": [],
   "source": [
    "nfa = NFA (\n",
    "    5,\n",
    "    0,\n",
    "    [False, False, False, False, True],\n",
    "    {\n",
    "        # Transtitions out of s0\n",
    "        (0, '0'): {0}, (0, '1'): {0},\n",
    "        (0, '2'): {0}, (0, '3'): {0, 1},\n",
    "        (0, '4'): {0}, (0, '5'): {0},\n",
    "        (0, '6'): {0}, (0, '7'): {0},\n",
    "        (0, '8'): {0}, (0, '9'): {0},\n",
    "\n",
    "        # Transtitions out of s1\n",
    "        (1, '1'): {2},\n",
    "\n",
    "        # Transtitions out of s2\n",
    "        (2, '3'): {3},\n",
    "\n",
    "        # Transitions out of s3\n",
    "        (3, '6'): {4},\n",
    "\n",
    "        # Transitions out of s4\n",
    "        (4, '0'): {4}, (4, '1'): {4},\n",
    "        (4, '2'): {4}, (4, '3'): {4},\n",
    "        (4, '4'): {4}, (4, '5'): {4},\n",
    "        (4, '6'): {4}, (4, '7'): {4},\n",
    "        (4, '8'): {4}, (4, '9'): {4},\n",
    "    }\n",
    ")"
   ]
  },
  {
   "attachments": {},
   "cell_type": "markdown",
   "metadata": {},
   "source": [
    "# Two Test Runs\n",
    "The string `38119849183846313631148791193847` has `3136` as a substring, so it should be accepted"
   ]
  },
  {
   "cell_type": "code",
   "execution_count": 14,
   "metadata": {},
   "outputs": [
    {
     "data": {
      "text/plain": [
       "True"
      ]
     },
     "execution_count": 14,
     "metadata": {},
     "output_type": "execute_result"
    }
   ],
   "source": [
    "nfa.accepts(\"38119849183846313631148791193847\")"
   ]
  },
  {
   "attachments": {},
   "cell_type": "markdown",
   "metadata": {},
   "source": [
    "The string `38119849183846311131148791193847` does not have `3136` as a substring, so it should be rejected"
   ]
  },
  {
   "cell_type": "code",
   "execution_count": 15,
   "metadata": {},
   "outputs": [
    {
     "data": {
      "text/plain": [
       "False"
      ]
     },
     "execution_count": 15,
     "metadata": {},
     "output_type": "execute_result"
    }
   ],
   "source": [
    "nfa.accepts(\"38119849183846311131148791193847\")"
   ]
  }
 ],
 "metadata": {
  "kernelspec": {
   "display_name": "Python 3",
   "language": "python",
   "name": "python3"
  },
  "language_info": {
   "codemirror_mode": {
    "name": "ipython",
    "version": 3
   },
   "file_extension": ".py",
   "mimetype": "text/x-python",
   "name": "python",
   "nbconvert_exporter": "python",
   "pygments_lexer": "ipython3",
   "version": "3.11.2"
  },
  "orig_nbformat": 4,
  "vscode": {
   "interpreter": {
    "hash": "b0fa6594d8f4cbf19f97940f81e996739fb7646882a419484c72d19e05852a7e"
   }
  }
 },
 "nbformat": 4,
 "nbformat_minor": 2
}
