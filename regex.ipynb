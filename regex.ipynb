{
 "cells": [
  {
   "attachments": {},
   "cell_type": "markdown",
   "metadata": {},
   "source": [
    "# Representing Regular Expressions\n",
    "We have four types of regular expressions:\n",
    "\n",
    "- A character class generalizes individual characters\n",
    "    - `.` : `CharClass([CharRange(None, None)], False)`\n",
    "- A block is regular expression (callen an `atom` here) equipped with a range of repetitions:\n",
    "    - No repetitions: `min_reps = 1, max_reps = 1`\n",
    "    - `*`: `min_reps = None, max_reps = None`\n",
    "    - `+`: `min_reps = 1, max_reps = None`\n",
    "    - `?`: `min_reps = 0, max_reps = 1`\n",
    "    - `{,n}`: `min_reps = None, max_reps = n`\n",
    "    - `{m,}`: `min_reps = m, max_reps = None`\n",
    "    - `{m, n}`: `min_reps = m, max_reps = n`\n",
    "- A concatenation (`Concat`) of blocks\n",
    "    - $\\epsilon$ = concatenation of zero blocks\n",
    "- An alternation (`Alternation`) of concats. We require that there's at least one concat"
   ]
  },
  {
   "cell_type": "code",
   "execution_count": null,
   "metadata": {},
   "outputs": [],
   "source": [
    "%run char_range.ipynb\n",
    "\n",
    "class Regex:\n",
    "    pass\n",
    "\n",
    "class Alternation(Regex):\n",
    "    def __init__ (self, concats):\n",
    "        self.concats = concats\n",
    "\n",
    "    def __repr__(self):\n",
    "        return f\"Alternation({repr(self.concats)})\"\n",
    "\n",
    "class Concat(Regex):\n",
    "    def __init__(self, blocks):\n",
    "        self.blocks = blocks\n",
    "\n",
    "    def __repr__(self):\n",
    "        return f\"Concat({repr(self.blocks)})\"\n",
    "\n",
    "class Block(Regex):\n",
    "    def __init__(self, atom, min_reps, max_reps):\n",
    "        self.atom = atom\n",
    "        self.min_reps = min_reps\n",
    "        self.max_reps = max_reps\n",
    "\n",
    "    def __repr__(self):\n",
    "        return f\"Block({repr(self.atom)}, {repr(self.min_reps)}, {repr(self.max_reps)})\"\n",
    "\n",
    "class CharClass(Regex):\n",
    "    def __init__(self, ranges, negate):\n",
    "        ranges = union_ranges(ranges)\n",
    "        if negate:\n",
    "            ranges = negate_ranges(ranges)\n",
    "        self.ranges = ranges\n",
    "\n",
    "    def __repr__(self):\n",
    "        return f\"CharClass({repr(self.ranges)})\""
   ]
  },
  {
   "attachments": {},
   "cell_type": "markdown",
   "metadata": {},
   "source": [
    "## Test inputs"
   ]
  },
  {
   "cell_type": "code",
   "execution_count": 1,
   "metadata": {},
   "outputs": [
    {
     "ename": "ModuleNotFoundError",
     "evalue": "No module named 'regex_parser'",
     "output_type": "error",
     "traceback": [
      "\u001b[0;31m---------------------------------------------------------------------------\u001b[0m",
      "\u001b[0;31mModuleNotFoundError\u001b[0m                       Traceback (most recent call last)",
      "Cell \u001b[0;32mIn[1], line 1\u001b[0m\n\u001b[0;32m----> 1\u001b[0m \u001b[39mfrom\u001b[39;00m \u001b[39mregex_parser\u001b[39;00m \u001b[39mimport\u001b[39;00m parse\n\u001b[1;32m      3\u001b[0m parse\n",
      "\u001b[0;31mModuleNotFoundError\u001b[0m: No module named 'regex_parser'"
     ]
    }
   ],
   "source": [
    "from regex_parser import parse\n",
    "\n",
    "parse(r\"ab|c\")"
   ]
  },
  {
   "cell_type": "code",
   "execution_count": null,
   "metadata": {},
   "outputs": [],
   "source": [
    "parse(r\".*\")"
   ]
  },
  {
   "cell_type": "code",
   "execution_count": null,
   "metadata": {},
   "outputs": [],
   "source": [
    "parse(r\"(a|b)+\")"
   ]
  },
  {
   "cell_type": "code",
   "execution_count": null,
   "metadata": {},
   "outputs": [],
   "source": [
    "parse(r\"[a-z-^]\")"
   ]
  },
  {
   "cell_type": "code",
   "execution_count": null,
   "metadata": {},
   "outputs": [],
   "source": [
    "parse(r\"[--aA-Z]\")"
   ]
  }
 ],
 "metadata": {
  "kernelspec": {
   "display_name": "Python 3",
   "language": "python",
   "name": "python3"
  },
  "language_info": {
   "codemirror_mode": {
    "name": "ipython",
    "version": 3
   },
   "file_extension": ".py",
   "mimetype": "text/x-python",
   "name": "python",
   "nbconvert_exporter": "python",
   "pygments_lexer": "ipython3",
   "version": "3.11.2"
  },
  "orig_nbformat": 4,
  "vscode": {
   "interpreter": {
    "hash": "b0fa6594d8f4cbf19f97940f81e996739fb7646882a419484c72d19e05852a7e"
   }
  }
 },
 "nbformat": 4,
 "nbformat_minor": 2
}
