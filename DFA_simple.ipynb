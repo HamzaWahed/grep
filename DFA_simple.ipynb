{
 "cells": [
  {
   "attachments": {},
   "cell_type": "markdown",
   "metadata": {},
   "source": [
    "# DFA Implementation\n",
    "This is a simple DFA implementation. It reflects the definition of a DFA as discussed in class. It is not the final implementation our implementation of grep will use.\n",
    "\n",
    "DFA representation:\n",
    "- Number of states `num_states` (the state set is then 0..num_states -1)\n",
    "- Start state `start_state`\n",
    "- Boolean array `is_accepting` storing for every state whether it's accepting\n",
    "- Transition function `delta` represented as a dictionary with `(state, character)` keys and `state` values"
   ]
  },
  {
   "cell_type": "code",
   "execution_count": 1,
   "metadata": {},
   "outputs": [],
   "source": [
    "# %load src/dfa_simple.py\n",
    "\n",
    "class DFA:\n",
    "    \n",
    "    def __init__(self, num_states, start_state, is_accepting, delta):\n",
    "        \n",
    "        self.num_states = num_states\n",
    "        self.start_state = start_state\n",
    "        self.delta = delta\n",
    "        self.is_accepting = is_accepting\n",
    "\n",
    "    def accepts(self, string):\n",
    "\n",
    "        state = self.start_state\n",
    "        for ch in string:\n",
    "            state = self.delta[(state, ch)]\n",
    "\n",
    "        return self.is_accepting[state]"
   ]
  },
  {
   "attachments": {},
   "cell_type": "markdown",
   "metadata": {},
   "source": [
    "# An Example DFA\n",
    "This DFA decides the language of all binary strings that do not contain the substring 101"
   ]
  },
  {
   "cell_type": "code",
   "execution_count": 2,
   "metadata": {},
   "outputs": [],
   "source": [
    "dfa = DFA (\n",
    "    4,                              # 4 states\n",
    "    0,                              # State 0 is the start state\n",
    "    [True, True, True, False],      # States 0, 1 and 2 are accepting states\n",
    "    {                               # Transition table\n",
    "        (0, '0'): 0, (0, '1'): 1,\n",
    "        (1, '0'): 2, (1, '1'): 1,\n",
    "        (2, '0'): 0, (2, '1'): 3,\n",
    "        (3, '0'): 3, (3, '1'): 3,\n",
    "    }\n",
    ")"
   ]
  },
  {
   "attachments": {},
   "cell_type": "markdown",
   "metadata": {},
   "source": [
    "# Two Test Runs\n",
    "The string `11001000100111000` should be accepted because it does not contain the substring `101`"
   ]
  },
  {
   "cell_type": "code",
   "execution_count": 3,
   "metadata": {},
   "outputs": [
    {
     "data": {
      "text/plain": [
       "True"
      ]
     },
     "execution_count": 3,
     "metadata": {},
     "output_type": "execute_result"
    }
   ],
   "source": [
    "dfa.accepts(\"11001000100111000\")"
   ]
  },
  {
   "attachments": {},
   "cell_type": "markdown",
   "metadata": {},
   "source": [
    "The string `1100100010111000` should be rejected because it does contain the substring `101`."
   ]
  },
  {
   "cell_type": "code",
   "execution_count": 4,
   "metadata": {},
   "outputs": [
    {
     "data": {
      "text/plain": [
       "False"
      ]
     },
     "execution_count": 4,
     "metadata": {},
     "output_type": "execute_result"
    }
   ],
   "source": [
    "dfa.accepts(\"1100100010111000\")"
   ]
  }
 ],
 "metadata": {
  "kernelspec": {
   "display_name": "Python 3",
   "language": "python",
   "name": "python3"
  },
  "language_info": {
   "codemirror_mode": {
    "name": "ipython",
    "version": 3
   },
   "file_extension": ".py",
   "mimetype": "text/x-python",
   "name": "python",
   "nbconvert_exporter": "python",
   "pygments_lexer": "ipython3",
   "version": "3.11.2"
  },
  "orig_nbformat": 4,
  "vscode": {
   "interpreter": {
    "hash": "b0fa6594d8f4cbf19f97940f81e996739fb7646882a419484c72d19e05852a7e"
   }
  }
 },
 "nbformat": 4,
 "nbformat_minor": 2
}
